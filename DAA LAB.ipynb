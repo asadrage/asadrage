{
  "nbformat": 4,
  "nbformat_minor": 0,
  "metadata": {
    "colab": {
      "provenance": [],
      "authorship_tag": "ABX9TyMpoEqvat6x5H1+Cj7XLe1N",
      "include_colab_link": true
    },
    "kernelspec": {
      "name": "python3",
      "display_name": "Python 3"
    },
    "language_info": {
      "name": "python"
    }
  },
  "cells": [
    {
      "cell_type": "markdown",
      "metadata": {
        "id": "view-in-github",
        "colab_type": "text"
      },
      "source": [
        "<a href=\"https://colab.research.google.com/github/asadrage/asadrage/blob/main/DAA%20LAB.ipynb\" target=\"_parent\"><img src=\"https://colab.research.google.com/assets/colab-badge.svg\" alt=\"Open In Colab\"/></a>"
      ]
    },
    {
      "cell_type": "code",
      "execution_count": null,
      "metadata": {
        "colab": {
          "base_uri": "https://localhost:8080/"
        },
        "id": "ZcYUz4txA4WZ",
        "outputId": "a8252c29-5ab9-4c30-e6fa-8e16ecc45209"
      },
      "outputs": [
        {
          "output_type": "stream",
          "name": "stdout",
          "text": [
            "P(3) = 5867\n",
            "Multiplications: 6\n",
            "Additions: 6\n",
            "Iterations: 7\n"
          ]
        }
      ],
      "source": [
        "#python\n",
        "def horner(coeffs, x):\n",
        "    result = 0\n",
        "    multiplications = 0\n",
        "    additions = 0\n",
        "    iterations = 0\n",
        "\n",
        "    for coefficient in coeffs:\n",
        "        result = result * x + coefficient\n",
        "        multiplications += 1 if iterations > 0 else 0  # No multiplication for the first iteration\n",
        "        additions += 1 if iterations > 0 else 0  # No addition for the first iteration\n",
        "        iterations += 1\n",
        "\n",
        "    return result, multiplications, additions, iterations\n",
        "# Coefficients of P(x) = 6x^6 + 5x^5 + 4x^4 - 3x^3 + 2x^2 + 8x - 7\n",
        "coeffs = [6, 5, 4, -3, 2, 8, -7]\n",
        "x = 3\n",
        "\n",
        "# Evaluate the polynomial at x = 3\n",
        "result, multiplications, additions, iterations = horner(coeffs, x)\n",
        "\n",
        "print(f\"P({x}) = {result}\")\n",
        "print(f\"Multiplications: {multiplications}\")\n",
        "print(f\"Additions: {additions}\")\n",
        "print(f\"Iterations: {iterations}\")\n",
        "#"
      ]
    },
    {
      "cell_type": "code",
      "source": [
        "#python\n",
        "def brute_force(coeffs, x):\n",
        "    result = 0\n",
        "    multiplications = 0\n",
        "\n",
        "    n = len(coeffs) - 1 #  Degree of the polynomial\n",
        "    for i, coefficient in enumerate(coeffs):\n",
        "        power = n - i\n",
        "        term = coefficient * (x ** power)\n",
        "        result += term\n",
        "        multiplications += power #  Each term requires power multiplications\n",
        "\n",
        "    return result, multiplications\n",
        "\n",
        "#Coefficients of P(x) = 6x^6 + 5x^5 + 4x^4 3x^3 + 2x^2 + 8x 7\n",
        "coeffs = [6, 5, 4, -3, 2, 8, -7]\n",
        "x = 3\n",
        "# Evaluate the polynomial using brute force method\n",
        "result_brute_force, multiplications_brute_force = brute_force(coeffs, x)\n",
        "\n",
        "print(f\"P({x}) using brute force method: {result_brute_force}\")\n",
        "print(f\"Multiplications using brute force method: {multiplications_brute_force}\")\n",
        "#"
      ],
      "metadata": {
        "colab": {
          "base_uri": "https://localhost:8080/"
        },
        "id": "f17yEC8RPHFO",
        "outputId": "cfa60908-5273-4a7b-f77b-1e87dd3620c5"
      },
      "execution_count": 7,
      "outputs": [
        {
          "output_type": "stream",
          "name": "stdout",
          "text": [
            "P(3) using brute force method: 5867\n",
            "Multiplications using brute force method: 21\n"
          ]
        }
      ]
    },
    {
      "cell_type": "code",
      "source": [],
      "metadata": {
        "id": "eMwu3tunMRLA"
      },
      "execution_count": null,
      "outputs": []
    },
    {
      "cell_type": "code",
      "source": [
        "def horner(coeffs, x):\n",
        "    n = len(coeffs)\n",
        "    result = coeffs[0]\n",
        "    multiplications = 0\n",
        "    additions = 0\n",
        "\n",
        "    for i in range(1, n):\n",
        "        result = result * x + coeffs[i]\n",
        "        multiplications += 1\n",
        "        additions += 1\n",
        "\n",
        "    return result, multiplications, additions, n - 1\n",
        "\n",
        "# Coefficients of the polynomial P(x) in decreasing order of powers\n",
        "coefficients = [6, 5, 4, -3, 2, 8, -7]\n",
        "x = 3\n",
        "\n",
        "# Evaluate polynomial using Horner's rule\n",
        "result, multiplications, additions, iterations = horner(coefficients, x)\n",
        "\n",
        "result, multiplications, additions, iterations\n",
        "result, multiplications, additions, iterations = horner(coefficients, x)\n",
        "\n",
        "print(\"P(3) =\", result)\n",
        "print(\"Multiplications =\", multiplications)\n",
        "print(\"Additions =\", additions)\n",
        "print(\"Iterations =\", iterations)\n"
      ],
      "metadata": {
        "colab": {
          "base_uri": "https://localhost:8080/"
        },
        "id": "K_CSupEAKARG",
        "outputId": "5ccdce59-d2ae-4320-ab9e-a85d9fd96226"
      },
      "execution_count": null,
      "outputs": [
        {
          "output_type": "stream",
          "name": "stdout",
          "text": [
            "P(3) = 5867\n",
            "Multiplications = 6\n",
            "Additions = 6\n",
            "Iterations = 6\n"
          ]
        }
      ]
    },
    {
      "cell_type": "code",
      "source": [
        "def brute_force_polynomial_evaluation(coeffs, x):\n",
        "    result = 0\n",
        "    multiplications = 0\n",
        "\n",
        "    n = len(coeffs)\n",
        "    for i in range(n):\n",
        "        term = coeffs[i]\n",
        "        for j in range(n - 1 - i):\n",
        "            term *= x\n",
        "            multiplications += 1\n",
        "        result += term\n",
        "\n",
        "    return result, multiplications\n",
        "\n",
        "# Coefficients of P(x) = 6x^6 + 5x^5 + 4x^4 - 3x^3 + 2x^2 + 8x - 7\n",
        "coeffs = [6, 5, 4, -3, 2, 8, -7]\n",
        "x = 3\n",
        "\n",
        "# Evaluate the polynomial at x = 3 using brute force\n",
        "result_brute_force, multiplications_brute_force = brute_force_polynomial_evaluation(coeffs, x)\n",
        "\n",
        "print(f\"P({x}) = {result_brute_force}\")\n",
        "print(f\"Multiplications (Brute Force): {multiplications_brute_force}\")\n"
      ],
      "metadata": {
        "colab": {
          "base_uri": "https://localhost:8080/"
        },
        "id": "e9JVJ_SQMUN2",
        "outputId": "4ada55d5-2920-4d64-e4f4-4cda7dc265b0"
      },
      "execution_count": null,
      "outputs": [
        {
          "output_type": "stream",
          "name": "stdout",
          "text": [
            "P(3) = 5867\n",
            "Multiplications (Brute Force): 21\n"
          ]
        }
      ]
    },
    {
      "cell_type": "code",
      "source": [
        "def horner(coeffs, x):\n",
        "    result = 0\n",
        "    multiplications = 0\n",
        "    additions = 0\n",
        "    iterations = 0\n",
        "\n",
        "    for coefficient in coeffs:\n",
        "        result = result * x + coefficient\n",
        "        multiplications += 1 if iterations > 0 else 0  # No multiplication for the first iteration\n",
        "        additions += 1 if iterations > 0 else 0  # No addition for the first iteration\n",
        "        iterations += 1\n",
        "\n",
        "    return result, multiplications, additions, iterations\n",
        "\n",
        "# Evaluate the polynomial at x = 3 using Horner's method\n",
        "result_horner, multiplications_horner, additions_horner, iterations_horner = horner(coeffs, x)\n",
        "\n",
        "print(f\"P({x}) = {result_horner}\")\n",
        "print(f\"Multiplications (Horner's Method): {multiplications_horner}\")\n",
        "print(f\"Iterations: {iterations_horner}\")\n"
      ],
      "metadata": {
        "colab": {
          "base_uri": "https://localhost:8080/"
        },
        "id": "URXZz7nfMZ9_",
        "outputId": "b7d0c42b-c096-49f1-a203-c774fe9c49ad"
      },
      "execution_count": null,
      "outputs": [
        {
          "output_type": "stream",
          "name": "stdout",
          "text": [
            "P(3) = 5867\n",
            "Multiplications (Horner's Method): 6\n",
            "Iterations: 7\n"
          ]
        }
      ]
    },
    {
      "cell_type": "code",
      "source": [
        "# Brute Force Method\n",
        "result_brute_force, multiplications_brute_force = brute_force_polynomial_evaluation(coeffs, x)\n",
        "\n",
        "# Horner's Method\n",
        "result_horner, multiplications_horner, additions_horner, iterations_horner = horner(coeffs, x)\n",
        "\n",
        "# Output results\n",
        "print(f\"Brute Force Method:\")\n",
        "print(f\"P({x}) = {result_brute_force}\")\n",
        "print(f\"Multiplications: {multiplications_brute_force}\")\n",
        "\n",
        "print(f\"Horner's Method:\")\n",
        "print(f\"P({x}) = {result_horner}\")\n",
        "print(f\"Multiplications: {multiplications_horner}\")\n",
        "print(f\"Iterations: {iterations_horner}\")\n"
      ],
      "metadata": {
        "colab": {
          "base_uri": "https://localhost:8080/"
        },
        "id": "Y4BAGxLdNiUu",
        "outputId": "d557c3cb-790c-4538-cea3-376bcd02da5a"
      },
      "execution_count": null,
      "outputs": [
        {
          "output_type": "stream",
          "name": "stdout",
          "text": [
            "Brute Force Method:\n",
            "P(3) = 5867\n",
            "Multiplications: 21\n",
            "Horner's Method:\n",
            "P(3) = 5867\n",
            "Multiplications: 6\n",
            "Iterations: 7\n"
          ]
        }
      ]
    }
  ]
}